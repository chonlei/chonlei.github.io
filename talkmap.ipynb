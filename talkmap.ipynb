{
 "cells": [
  {
   "cell_type": "markdown",
   "metadata": {},
   "source": [
    "# Leaflet cluster map of talk locations\n",
    "\n",
    "Run this from the _talks/ directory, which contains .md files of all your talks. This scrapes the location YAML field from each .md file, geolocates it with geopy/Nominatim, and uses the getorg library to output data, HTML, and Javascript for a standalone cluster map."
   ]
  },
  {
   "cell_type": "code",
   "execution_count": 1,
   "metadata": {},
   "outputs": [
    {
     "name": "stdout",
     "output_type": "stream",
     "text": [
      "Requirement already satisfied: getorg in /opt/anaconda3/lib/python3.9/site-packages (0.3.1)\n",
      "Requirement already satisfied: geopy in /opt/anaconda3/lib/python3.9/site-packages (from getorg) (2.3.0)\n",
      "Requirement already satisfied: retrying in /opt/anaconda3/lib/python3.9/site-packages (from getorg) (1.3.4)\n",
      "Requirement already satisfied: pygithub in /opt/anaconda3/lib/python3.9/site-packages (from getorg) (1.58.0)\n",
      "Requirement already satisfied: geographiclib<3,>=1.52 in /opt/anaconda3/lib/python3.9/site-packages (from geopy->getorg) (2.0)\n",
      "Requirement already satisfied: pyjwt>=2.4.0 in /opt/anaconda3/lib/python3.9/site-packages (from pygithub->getorg) (2.6.0)\n",
      "Requirement already satisfied: deprecated in /opt/anaconda3/lib/python3.9/site-packages (from pygithub->getorg) (1.2.13)\n",
      "Requirement already satisfied: requests>=2.14.0 in /opt/anaconda3/lib/python3.9/site-packages (from pygithub->getorg) (2.26.0)\n",
      "Requirement already satisfied: pynacl>=1.4.0 in /opt/anaconda3/lib/python3.9/site-packages (from pygithub->getorg) (1.5.0)\n",
      "Requirement already satisfied: cffi>=1.4.1 in /opt/anaconda3/lib/python3.9/site-packages (from pynacl>=1.4.0->pygithub->getorg) (1.14.6)\n",
      "Requirement already satisfied: pycparser in /opt/anaconda3/lib/python3.9/site-packages (from cffi>=1.4.1->pynacl>=1.4.0->pygithub->getorg) (2.20)\n",
      "Requirement already satisfied: idna<4,>=2.5 in /opt/anaconda3/lib/python3.9/site-packages (from requests>=2.14.0->pygithub->getorg) (3.2)\n",
      "Requirement already satisfied: certifi>=2017.4.17 in /opt/anaconda3/lib/python3.9/site-packages (from requests>=2.14.0->pygithub->getorg) (2021.10.8)\n",
      "Requirement already satisfied: urllib3<1.27,>=1.21.1 in /opt/anaconda3/lib/python3.9/site-packages (from requests>=2.14.0->pygithub->getorg) (1.26.7)\n",
      "Requirement already satisfied: charset-normalizer~=2.0.0 in /opt/anaconda3/lib/python3.9/site-packages (from requests>=2.14.0->pygithub->getorg) (2.0.4)\n",
      "Requirement already satisfied: wrapt<2,>=1.10 in /opt/anaconda3/lib/python3.9/site-packages (from deprecated->pygithub->getorg) (1.12.1)\n",
      "Requirement already satisfied: six>=1.7.0 in /opt/anaconda3/lib/python3.9/site-packages (from retrying->getorg) (1.16.0)\n",
      "Iywidgets and ipyleaflet support disabled. You must be in a Jupyter notebook to use this feature.\n",
      "Error raised:\n",
      "No module named 'ipyleaflet'\n",
      "Check that you have enabled ipyleaflet in Jupyter with:\n",
      "    jupyter nbextension enable --py ipyleaflet\n"
     ]
    }
   ],
   "source": [
    "!pip install getorg --upgrade\n",
    "import glob\n",
    "import getorg\n",
    "from geopy import Nominatim"
   ]
  },
  {
   "cell_type": "code",
   "execution_count": 2,
   "metadata": {},
   "outputs": [],
   "source": [
    "g = glob.glob(\"_talks/*.md\")"
   ]
  },
  {
   "cell_type": "code",
   "execution_count": 3,
   "metadata": {},
   "outputs": [],
   "source": [
    "geocoder = Nominatim(user_agent='http')\n",
    "location_dict = {}\n",
    "location = \"\"\n",
    "permalink = \"\"\n",
    "title = \"\""
   ]
  },
  {
   "cell_type": "code",
   "execution_count": 4,
   "metadata": {},
   "outputs": [
    {
     "name": "stdout",
     "output_type": "stream",
     "text": [
      "Glasgow, UK \n",
      " Glasgow, Glasgow City, Alba / Scotland, G2 1DY, United Kingdom\n",
      "Essen, Germany \n",
      " Essen, Nordrhein-Westfalen, Deutschland\n",
      "Bath, UK \n",
      " Bath, Bath and North East Somerset, West of England, England, United Kingdom\n",
      "Online \n",
      " Online, Croix d'Argent, Montpellier, Hérault, Occitanie, France métropolitaine, France\n",
      "San Diego, California \n",
      " San Diego, San Diego County, California, United States\n",
      "Cambridge, UK \n",
      " Cambridge, Cambridgeshire, Cambridgeshire and Peterborough, England, United Kingdom\n",
      "Irvine, California \n",
      " Irvine, Orange County, California, United States\n",
      "Lucca, Italy \n",
      " Lucca, Toscana, Italia\n",
      "Washington, DC \n",
      " Washington, District of Columbia, United States\n",
      "Berlin, Germany \n",
      " Berlin, Deutschland\n",
      "Macau \n",
      " 澳門 Macau, 風順堂區 São Lourenço, 澳門 Macau, 519020, 中国\n",
      "Poznań, Poland \n",
      " Poznań, powiat poznański, województwo wielkopolskie, Polska\n",
      "Berlin, Germany \n",
      " Berlin, Deutschland\n",
      "Maastricht, the Netherlands \n",
      " Maastricht, Limburg, Nederland\n"
     ]
    }
   ],
   "source": [
    "\n",
    "for file in g:\n",
    "    with open(file, 'r') as f:\n",
    "        lines = f.read()\n",
    "        if lines.find('location: \"') > 1:\n",
    "            loc_start = lines.find('location: \"') + 11\n",
    "            lines_trim = lines[loc_start:]\n",
    "            loc_end = lines_trim.find('\"')\n",
    "            location = lines_trim[:loc_end]\n",
    "                            \n",
    "           \n",
    "        location_dict[location] = geocoder.geocode(location)\n",
    "        print(location, \"\\n\", location_dict[location])\n"
   ]
  },
  {
   "cell_type": "code",
   "execution_count": 5,
   "metadata": {},
   "outputs": [
    {
     "data": {
      "text/plain": [
       "'Written map to talkmap/'"
      ]
     },
     "execution_count": 5,
     "metadata": {},
     "output_type": "execute_result"
    }
   ],
   "source": [
    "m = getorg.orgmap.create_map_obj()\n",
    "getorg.orgmap.output_html_cluster_map(location_dict, folder_name=\"talkmap\", hashed_usernames=False)"
   ]
  }
 ],
 "metadata": {
  "anaconda-cloud": {},
  "kernelspec": {
   "display_name": "Python 3 (ipykernel)",
   "language": "python",
   "name": "python3"
  },
  "language_info": {
   "codemirror_mode": {
    "name": "ipython",
    "version": 3
   },
   "file_extension": ".py",
   "mimetype": "text/x-python",
   "name": "python",
   "nbconvert_exporter": "python",
   "pygments_lexer": "ipython3",
   "version": "3.9.7"
  }
 },
 "nbformat": 4,
 "nbformat_minor": 1
}
